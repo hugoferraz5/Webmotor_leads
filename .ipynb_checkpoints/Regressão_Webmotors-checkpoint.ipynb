{
 "cells": [
  {
   "cell_type": "code",
   "execution_count": 66,
   "id": "0d42ce1e",
   "metadata": {
    "ExecuteTime": {
     "end_time": "2022-07-22T19:59:07.496386Z",
     "start_time": "2022-07-22T19:59:07.462409Z"
    }
   },
   "outputs": [],
   "source": [
    "import numpy as np\n",
    "import pandas as pd\n",
    "import re\n",
    "import statistics\n",
    "import seaborn as sns\n",
    "import matplotlib.pyplot as plt\n",
    "%matplotlib inline\n",
    "import pickle\n",
    "from IPython.display import Image\n",
    "\n",
    "from sklearn.preprocessing import RobustScaler, MinMaxScaler, LabelEncoder\n",
    "from sklearn.model_selection import train_test_split\n",
    "from sklearn.ensemble import ExtraTreesClassifier\n",
    "from sklearn.ensemble import RandomForestClassifier\n",
    "from pycorrcat.pycorrcat import plot_corr, corr_matrix\n",
    "from sklearn import ensemble as en\n",
    "from boruta import BorutaPy\n",
    "\n",
    "from sklearn.ensemble import RandomForestRegressor\n",
    "from statsmodels.stats.weightstats import DescrStatsW\n",
    "from pycorrcat.pycorrcat import plot_corr, corr_matrix\n",
    "from sklearn.linear_model import LinearRegression, Lasso\n",
    "from sklearn.metrics import mean_absolute_error, mean_absolute_percentage_error, mean_squared_error\n",
    "import xgboost as xgb\n",
    "from xgboost import XGBRegressor"
   ]
  },
  {
   "cell_type": "code",
   "execution_count": 91,
   "id": "b045a1b1",
   "metadata": {
    "ExecuteTime": {
     "end_time": "2022-07-22T20:40:45.608067Z",
     "start_time": "2022-07-22T20:40:45.592077Z"
    }
   },
   "outputs": [],
   "source": [
    "def atributo_frequencia(atributo):\n",
    "    \n",
    "    # Cria um dicionário de valores contáveis\n",
    "    atributo_dict = atributo.value_counts().to_dict()\n",
    "    \n",
    "    # Armazena valores com Dataframe\n",
    "    df_atributo_dict = pd.DataFrame(atributo_dict.items(), columns=['Value','Count'])\n",
    "\n",
    "    # Calcula a frequência de cada valor\n",
    "    df_atributo_dict['frequency'] = df_atributo_dict['Count'] / df_atributo_dict['Count'].sum()\n",
    "    \n",
    "    # Obtém um dicionário para a frequência\n",
    "    atributo_frequencia = df_atributo_dict.set_index('Value').to_dict()['frequency']\n",
    "    \n",
    "    return atributo_frequencia\n",
    "\n",
    "\n",
    "def frequencias_codificadas(data_frame):\n",
    "    \n",
    "    # Cria um Dataframe vazio\n",
    "    freq_codificada = pd.DataFrame()\n",
    "    \n",
    "    # Cria colunas de frequências\n",
    "    for column in data_frame.columns:\n",
    "        freq_codificada[column] = data_frame[column].map(atributo_frequencia(data_frame[column]))\n",
    "        \n",
    "    return freq_codificada\n",
    "\n",
    "    \n",
    "    \n",
    "   \n",
    "    \n",
    "class Utilidades(object):   \n",
    "    def performance_modelo(self, X_train, X_test, y_train, y_test, regressor):\n",
    "\n",
    "        dataframe_performance = pd.DataFrame()\n",
    "\n",
    "        for clf in regressor:\n",
    "            print(\"Training \" + type(clf).__name__ + \"...\")\n",
    "            \n",
    "            clf.fit(X_train, y_train)\n",
    "\n",
    "            clf_predict = clf.predict(X_test)\n",
    "\n",
    "            mae, mape, rmse, = self.calculo_metricas_modelos(clf,  X_test, y_test,clf_predict)\n",
    "                                                                                                               \n",
    "                                                                                                              \n",
    "\n",
    "            clf_dict = {\n",
    "                'model': [type(clf).__name__, '---'],\n",
    "                'MAE': [mae, np.nan],\n",
    "                'MAPE': [mape, np.nan],\n",
    "                'RMSE': [rmse, np.nan]}\n",
    "\n",
    "            dataframe_performance = pd.concat([dataframe_performance, pd.DataFrame(clf_dict)])\n",
    "\n",
    "        dataframe_performance = dataframe_performance.reset_index()\n",
    "\n",
    "        dataframe_performance.drop('index', axis=1, inplace=True)\n",
    "\n",
    "        rows_to_drop = np.arange(1, len(regressor)*2, 2)\n",
    "\n",
    "        dataframe_performance.drop(rows_to_drop, inplace=True)\n",
    "\n",
    "        return dataframe_performance\n",
    "\n",
    "    def calculo_metricas_modelos(self, model, X_test, y_test, clf_predict):\n",
    "        \"\"\"\n",
    "            Calcular mae, mape, rmse\n",
    "        \"\"\"\n",
    "\n",
    "        mae = mean_absolute_error( y_test, clf_predict )\n",
    "        mape = mean_absolute_percentage_error( y_test, clf_predict )\n",
    "        rmse = np.sqrt( mean_squared_error( y_test, clf_predict ) )\n",
    "\n",
    "        return mae, mape, rmse"
   ]
  },
  {
   "cell_type": "code",
   "execution_count": 92,
   "id": "8ac3efa9",
   "metadata": {
    "ExecuteTime": {
     "end_time": "2022-07-22T20:40:47.411223Z",
     "start_time": "2022-07-22T20:40:47.403233Z"
    }
   },
   "outputs": [],
   "source": [
    "UG = Utilidades()"
   ]
  },
  {
   "cell_type": "code",
   "execution_count": 3,
   "id": "2cb656d0",
   "metadata": {
    "ExecuteTime": {
     "end_time": "2022-07-22T19:07:33.667278Z",
     "start_time": "2022-07-22T19:07:33.196454Z"
    }
   },
   "outputs": [],
   "source": [
    "# Carregar o data set\n",
    "data1 = pd.read_csv('data_saves/data1_f.csv', low_memory=False)"
   ]
  },
  {
   "cell_type": "code",
   "execution_count": 4,
   "id": "fc081b13",
   "metadata": {
    "ExecuteTime": {
     "end_time": "2022-07-22T19:07:35.260466Z",
     "start_time": "2022-07-22T19:07:34.382933Z"
    }
   },
   "outputs": [
    {
     "name": "stderr",
     "output_type": "stream",
     "text": [
      "<ipython-input-4-1c8dd1535b43>:11: SettingWithCopyWarning: \n",
      "A value is trying to be set on a copy of a slice from a DataFrame.\n",
      "Try using .loc[row_indexer,col_indexer] = value instead\n",
      "\n",
      "See the caveats in the documentation: https://pandas.pydata.org/pandas-docs/stable/user_guide/indexing.html#returning-a-view-versus-a-copy\n",
      "  categorical['portas'] = categorical['portas'].replace({ 0: 'nenhuma', 2: 'duas', 3: 'três', 4: 'quatro'})\n",
      "<ipython-input-4-1c8dd1535b43>:12: SettingWithCopyWarning: \n",
      "A value is trying to be set on a copy of a slice from a DataFrame.\n",
      "Try using .loc[row_indexer,col_indexer] = value instead\n",
      "\n",
      "See the caveats in the documentation: https://pandas.pydata.org/pandas-docs/stable/user_guide/indexing.html#returning-a-view-versus-a-copy\n",
      "  categorical['prioridade'] = categorical['prioridade'].replace({ 1: 'um', 2: 'dois', 3: 'três'})\n",
      "<ipython-input-4-1c8dd1535b43>:13: SettingWithCopyWarning: \n",
      "A value is trying to be set on a copy of a slice from a DataFrame.\n",
      "Try using .loc[row_indexer,col_indexer] = value instead\n",
      "\n",
      "See the caveats in the documentation: https://pandas.pydata.org/pandas-docs/stable/user_guide/indexing.html#returning-a-view-versus-a-copy\n",
      "  categorical['cod_tipo_pessoa'] = categorical['cod_tipo_pessoa'].replace({ 1: 'PF', 2: 'PJ'})\n",
      "<ipython-input-4-1c8dd1535b43>:16: SettingWithCopyWarning: \n",
      "A value is trying to be set on a copy of a slice from a DataFrame.\n",
      "Try using .loc[row_indexer,col_indexer] = value instead\n",
      "\n",
      "See the caveats in the documentation: https://pandas.pydata.org/pandas-docs/stable/user_guide/indexing.html#returning-a-view-versus-a-copy\n",
      "  binary['alarme'] = binary['alarme'].replace({ 'N': 0, 'S': 1})\n",
      "<ipython-input-4-1c8dd1535b43>:17: SettingWithCopyWarning: \n",
      "A value is trying to be set on a copy of a slice from a DataFrame.\n",
      "Try using .loc[row_indexer,col_indexer] = value instead\n",
      "\n",
      "See the caveats in the documentation: https://pandas.pydata.org/pandas-docs/stable/user_guide/indexing.html#returning-a-view-versus-a-copy\n",
      "  binary['arquente'] = binary['arquente'].replace({ 'N': 0, 'S': 1})\n",
      "<ipython-input-4-1c8dd1535b43>:18: SettingWithCopyWarning: \n",
      "A value is trying to be set on a copy of a slice from a DataFrame.\n",
      "Try using .loc[row_indexer,col_indexer] = value instead\n",
      "\n",
      "See the caveats in the documentation: https://pandas.pydata.org/pandas-docs/stable/user_guide/indexing.html#returning-a-view-versus-a-copy\n",
      "  binary['bancocouro'] = binary['bancocouro'].replace({ 'N': 0, 'S': 1})\n",
      "<ipython-input-4-1c8dd1535b43>:19: SettingWithCopyWarning: \n",
      "A value is trying to be set on a copy of a slice from a DataFrame.\n",
      "Try using .loc[row_indexer,col_indexer] = value instead\n",
      "\n",
      "See the caveats in the documentation: https://pandas.pydata.org/pandas-docs/stable/user_guide/indexing.html#returning-a-view-versus-a-copy\n",
      "  binary['airbag'] = binary['airbag'].replace({ 'N': 0, 'S': 1})\n",
      "<ipython-input-4-1c8dd1535b43>:20: SettingWithCopyWarning: \n",
      "A value is trying to be set on a copy of a slice from a DataFrame.\n",
      "Try using .loc[row_indexer,col_indexer] = value instead\n",
      "\n",
      "See the caveats in the documentation: https://pandas.pydata.org/pandas-docs/stable/user_guide/indexing.html#returning-a-view-versus-a-copy\n",
      "  binary['arcondicionado'] = binary['arcondicionado'].replace({ 'N': 0, 'S': 1})\n",
      "<ipython-input-4-1c8dd1535b43>:21: SettingWithCopyWarning: \n",
      "A value is trying to be set on a copy of a slice from a DataFrame.\n",
      "Try using .loc[row_indexer,col_indexer] = value instead\n",
      "\n",
      "See the caveats in the documentation: https://pandas.pydata.org/pandas-docs/stable/user_guide/indexing.html#returning-a-view-versus-a-copy\n",
      "  binary['abs'] = binary['abs'].replace({ 'N': 0, 'S': 1})\n",
      "<ipython-input-4-1c8dd1535b43>:22: SettingWithCopyWarning: \n",
      "A value is trying to be set on a copy of a slice from a DataFrame.\n",
      "Try using .loc[row_indexer,col_indexer] = value instead\n",
      "\n",
      "See the caveats in the documentation: https://pandas.pydata.org/pandas-docs/stable/user_guide/indexing.html#returning-a-view-versus-a-copy\n",
      "  binary['desembaraçador_traseiro'] = binary['desembaraçador_traseiro'].replace({ 'N': 0, 'S': 1})\n",
      "<ipython-input-4-1c8dd1535b43>:23: SettingWithCopyWarning: \n",
      "A value is trying to be set on a copy of a slice from a DataFrame.\n",
      "Try using .loc[row_indexer,col_indexer] = value instead\n",
      "\n",
      "See the caveats in the documentation: https://pandas.pydata.org/pandas-docs/stable/user_guide/indexing.html#returning-a-view-versus-a-copy\n",
      "  binary['travaeletrica'] = binary['travaeletrica'].replace({ 'N': 0, 'S': 1})\n",
      "<ipython-input-4-1c8dd1535b43>:24: SettingWithCopyWarning: \n",
      "A value is trying to be set on a copy of a slice from a DataFrame.\n",
      "Try using .loc[row_indexer,col_indexer] = value instead\n",
      "\n",
      "See the caveats in the documentation: https://pandas.pydata.org/pandas-docs/stable/user_guide/indexing.html#returning-a-view-versus-a-copy\n",
      "  binary['vidroseletricos'] = binary['vidroseletricos'].replace({ 'N': 0, 'S': 1})\n",
      "<ipython-input-4-1c8dd1535b43>:25: SettingWithCopyWarning: \n",
      "A value is trying to be set on a copy of a slice from a DataFrame.\n",
      "Try using .loc[row_indexer,col_indexer] = value instead\n",
      "\n",
      "See the caveats in the documentation: https://pandas.pydata.org/pandas-docs/stable/user_guide/indexing.html#returning-a-view-versus-a-copy\n",
      "  binary['rodasliga'] = binary['rodasliga'].replace({'N': 0, 'S': 1})\n",
      "<ipython-input-4-1c8dd1535b43>:26: SettingWithCopyWarning: \n",
      "A value is trying to be set on a copy of a slice from a DataFrame.\n",
      "Try using .loc[row_indexer,col_indexer] = value instead\n",
      "\n",
      "See the caveats in the documentation: https://pandas.pydata.org/pandas-docs/stable/user_guide/indexing.html#returning-a-view-versus-a-copy\n",
      "  binary['sensor_chuva'] = binary['sensor_chuva'].replace({'N': 0, 'S': 1})\n",
      "<ipython-input-4-1c8dd1535b43>:27: SettingWithCopyWarning: \n",
      "A value is trying to be set on a copy of a slice from a DataFrame.\n",
      "Try using .loc[row_indexer,col_indexer] = value instead\n",
      "\n",
      "See the caveats in the documentation: https://pandas.pydata.org/pandas-docs/stable/user_guide/indexing.html#returning-a-view-versus-a-copy\n",
      "  binary['sensor_estacionamento'] = binary['sensor_estacionamento'].replace({ 'N': 0, 'S': 1})\n",
      "<ipython-input-4-1c8dd1535b43>:28: SettingWithCopyWarning: \n",
      "A value is trying to be set on a copy of a slice from a DataFrame.\n",
      "Try using .loc[row_indexer,col_indexer] = value instead\n",
      "\n",
      "See the caveats in the documentation: https://pandas.pydata.org/pandas-docs/stable/user_guide/indexing.html#returning-a-view-versus-a-copy\n",
      "  binary['desembaraçador_traseiro'] = binary['desembaraçador_traseiro'].replace({ 'N': 0, 'S': 1})\n",
      "<ipython-input-4-1c8dd1535b43>:32: SettingWithCopyWarning: \n",
      "A value is trying to be set on a copy of a slice from a DataFrame.\n",
      "Try using .loc[row_indexer,col_indexer] = value instead\n",
      "\n",
      "See the caveats in the documentation: https://pandas.pydata.org/pandas-docs/stable/user_guide/indexing.html#returning-a-view-versus-a-copy\n",
      "  categorical['cod_tipo_pessoa'] = categorical['cod_tipo_pessoa'].astype('category')\n",
      "<ipython-input-4-1c8dd1535b43>:33: SettingWithCopyWarning: \n",
      "A value is trying to be set on a copy of a slice from a DataFrame.\n",
      "Try using .loc[row_indexer,col_indexer] = value instead\n",
      "\n",
      "See the caveats in the documentation: https://pandas.pydata.org/pandas-docs/stable/user_guide/indexing.html#returning-a-view-versus-a-copy\n",
      "  categorical['combustivel'] = categorical['combustivel'].astype('category')\n",
      "<ipython-input-4-1c8dd1535b43>:34: SettingWithCopyWarning: \n",
      "A value is trying to be set on a copy of a slice from a DataFrame.\n",
      "Try using .loc[row_indexer,col_indexer] = value instead\n",
      "\n",
      "See the caveats in the documentation: https://pandas.pydata.org/pandas-docs/stable/user_guide/indexing.html#returning-a-view-versus-a-copy\n",
      "  categorical['cambio'] = categorical['cambio'].astype('category')\n",
      "<ipython-input-4-1c8dd1535b43>:35: SettingWithCopyWarning: \n",
      "A value is trying to be set on a copy of a slice from a DataFrame.\n",
      "Try using .loc[row_indexer,col_indexer] = value instead\n",
      "\n",
      "See the caveats in the documentation: https://pandas.pydata.org/pandas-docs/stable/user_guide/indexing.html#returning-a-view-versus-a-copy\n",
      "  categorical['portas'] = categorical['portas'].astype('category')\n",
      "<ipython-input-4-1c8dd1535b43>:36: SettingWithCopyWarning: \n",
      "A value is trying to be set on a copy of a slice from a DataFrame.\n",
      "Try using .loc[row_indexer,col_indexer] = value instead\n",
      "\n",
      "See the caveats in the documentation: https://pandas.pydata.org/pandas-docs/stable/user_guide/indexing.html#returning-a-view-versus-a-copy\n",
      "  categorical['Nivel_Anuncio'] = categorical['Nivel_Anuncio'].astype('category')\n",
      "<ipython-input-4-1c8dd1535b43>:37: SettingWithCopyWarning: \n",
      "A value is trying to be set on a copy of a slice from a DataFrame.\n",
      "Try using .loc[row_indexer,col_indexer] = value instead\n",
      "\n",
      "See the caveats in the documentation: https://pandas.pydata.org/pandas-docs/stable/user_guide/indexing.html#returning-a-view-versus-a-copy\n",
      "  categorical['Marca_Anuncio'] = categorical['Marca_Anuncio'].astype('category')\n",
      "<ipython-input-4-1c8dd1535b43>:38: SettingWithCopyWarning: \n",
      "A value is trying to be set on a copy of a slice from a DataFrame.\n",
      "Try using .loc[row_indexer,col_indexer] = value instead\n",
      "\n",
      "See the caveats in the documentation: https://pandas.pydata.org/pandas-docs/stable/user_guide/indexing.html#returning-a-view-versus-a-copy\n",
      "  categorical['Versao_Anuncio'] = categorical['Versao_Anuncio'].astype('category')\n",
      "<ipython-input-4-1c8dd1535b43>:39: SettingWithCopyWarning: \n",
      "A value is trying to be set on a copy of a slice from a DataFrame.\n",
      "Try using .loc[row_indexer,col_indexer] = value instead\n",
      "\n",
      "See the caveats in the documentation: https://pandas.pydata.org/pandas-docs/stable/user_guide/indexing.html#returning-a-view-versus-a-copy\n",
      "  categorical['prioridade'] = categorical['prioridade'].astype('category')\n",
      "<ipython-input-4-1c8dd1535b43>:40: SettingWithCopyWarning: \n",
      "A value is trying to be set on a copy of a slice from a DataFrame.\n",
      "Try using .loc[row_indexer,col_indexer] = value instead\n",
      "\n",
      "See the caveats in the documentation: https://pandas.pydata.org/pandas-docs/stable/user_guide/indexing.html#returning-a-view-versus-a-copy\n",
      "  categorical['Cidade'] = categorical['Cidade'].astype('category')\n",
      "<ipython-input-4-1c8dd1535b43>:41: SettingWithCopyWarning: \n",
      "A value is trying to be set on a copy of a slice from a DataFrame.\n",
      "Try using .loc[row_indexer,col_indexer] = value instead\n",
      "\n",
      "See the caveats in the documentation: https://pandas.pydata.org/pandas-docs/stable/user_guide/indexing.html#returning-a-view-versus-a-copy\n",
      "  categorical['Estado'] = categorical['Estado'].astype('category')\n"
     ]
    }
   ],
   "source": [
    "# Removendo vlr_mercado_2\n",
    "data1 = data1.drop(['vlr_mercado_2'], axis=1)\n",
    "data1.head()\n",
    "\n",
    "# Dividindo os dados em binary, numerical e categorical\n",
    "categorical = data1[['cod_tipo_pessoa','combustivel', 'cambio', 'portas', 'Nivel_Anuncio','Marca_Anuncio','Versao_Anuncio','prioridade', 'Cidade', 'Estado']]\n",
    "numerical = data1[['código_do_anunciante','views','cliques_telefone','cod_marca_veiculo','cod_modelo_veiculo','cod_versao_veiculo','ano_modelo','cep_2dig','vlr_anuncio','qtd_fotos','km_veiculo','vlr_mercado']]\n",
    "binary = data1[['flg_unico_dono','flg_licenciado', 'flg_ipva_pago','flg_todas_revisoes_concessionaria','flg_todas_revisoes_agenda_veiculo','flg_garantia_fabrica','flg_blindado','flg_aceita_troca','alarme','arquente','bancocouro','airbag','arcondicionado','abs','desembaraçador_traseiro','travaeletrica','vidroseletricos','rodasliga','sensor_chuva','sensor_estacionamento','desembaraçador_traseiro']]\n",
    "\n",
    "# Alterando alguns valores dos dados categorical \n",
    "categorical['portas'] = categorical['portas'].replace({ 0: 'nenhuma', 2: 'duas', 3: 'três', 4: 'quatro'})\n",
    "categorical['prioridade'] = categorical['prioridade'].replace({ 1: 'um', 2: 'dois', 3: 'três'})\n",
    "categorical['cod_tipo_pessoa'] = categorical['cod_tipo_pessoa'].replace({ 1: 'PF', 2: 'PJ'})\n",
    "\n",
    "# Alterando alguns valores dos dados binary\n",
    "binary['alarme'] = binary['alarme'].replace({ 'N': 0, 'S': 1})\n",
    "binary['arquente'] = binary['arquente'].replace({ 'N': 0, 'S': 1})\n",
    "binary['bancocouro'] = binary['bancocouro'].replace({ 'N': 0, 'S': 1})\n",
    "binary['airbag'] = binary['airbag'].replace({ 'N': 0, 'S': 1})\n",
    "binary['arcondicionado'] = binary['arcondicionado'].replace({ 'N': 0, 'S': 1})\n",
    "binary['abs'] = binary['abs'].replace({ 'N': 0, 'S': 1})\n",
    "binary['desembaraçador_traseiro'] = binary['desembaraçador_traseiro'].replace({ 'N': 0, 'S': 1})\n",
    "binary['travaeletrica'] = binary['travaeletrica'].replace({ 'N': 0, 'S': 1})\n",
    "binary['vidroseletricos'] = binary['vidroseletricos'].replace({ 'N': 0, 'S': 1})\n",
    "binary['rodasliga'] = binary['rodasliga'].replace({'N': 0, 'S': 1})\n",
    "binary['sensor_chuva'] = binary['sensor_chuva'].replace({'N': 0, 'S': 1})\n",
    "binary['sensor_estacionamento'] = binary['sensor_estacionamento'].replace({ 'N': 0, 'S': 1})\n",
    "binary['desembaraçador_traseiro'] = binary['desembaraçador_traseiro'].replace({ 'N': 0, 'S': 1})\n",
    "\n",
    "\n",
    "# Mudando o dtype para dados categorical\n",
    "categorical['cod_tipo_pessoa'] = categorical['cod_tipo_pessoa'].astype('category')\n",
    "categorical['combustivel'] = categorical['combustivel'].astype('category')\n",
    "categorical['cambio'] = categorical['cambio'].astype('category')\n",
    "categorical['portas'] = categorical['portas'].astype('category')\n",
    "categorical['Nivel_Anuncio'] = categorical['Nivel_Anuncio'].astype('category')\n",
    "categorical['Marca_Anuncio'] = categorical['Marca_Anuncio'].astype('category')\n",
    "categorical['Versao_Anuncio'] = categorical['Versao_Anuncio'].astype('category')\n",
    "categorical['prioridade'] = categorical['prioridade'].astype('category')\n",
    "categorical['Cidade'] = categorical['Cidade'].astype('category')\n",
    "categorical['Estado'] = categorical['Estado'].astype('category')\n",
    "\n"
   ]
  },
  {
   "cell_type": "code",
   "execution_count": 5,
   "id": "daecf473",
   "metadata": {
    "ExecuteTime": {
     "end_time": "2022-07-22T19:07:37.684348Z",
     "start_time": "2022-07-22T19:07:37.677354Z"
    }
   },
   "outputs": [],
   "source": [
    "Alvo_var = data1[['leads']]"
   ]
  },
  {
   "cell_type": "markdown",
   "id": "9555af19",
   "metadata": {},
   "source": [
    "## 7.2 Normalização"
   ]
  },
  {
   "cell_type": "code",
   "execution_count": 6,
   "id": "2842c6e7",
   "metadata": {
    "ExecuteTime": {
     "end_time": "2022-07-22T19:07:39.931975Z",
     "start_time": "2022-07-22T19:07:39.769137Z"
    }
   },
   "outputs": [
    {
     "name": "stderr",
     "output_type": "stream",
     "text": [
      "C:\\ProgramData\\Anaconda3\\lib\\site-packages\\sklearn\\base.py:450: UserWarning: X does not have valid feature names, but MinMaxScaler was fitted with feature names\n",
      "  warnings.warn(\n"
     ]
    }
   ],
   "source": [
    "## 7.2 Normalização\n",
    "\n",
    "# Instanciando a normalização \n",
    "escala_mm = MinMaxScaler()\n",
    "\n",
    "numerical_ = escala_mm.fit(numerical)\n",
    "\n",
    "numerical_1 = escala_mm.transform(numerical.values)\n",
    "\n",
    "numerical_2 = pd.DataFrame(numerical_1, columns=numerical.columns)\n",
    "\n",
    "pickle.dump(escala_mm, open('Models/numerical_scaler.pkl', 'wb'))\n",
    "\n",
    "\n",
    "\n",
    "\n"
   ]
  },
  {
   "cell_type": "markdown",
   "id": "ca2a6998",
   "metadata": {},
   "source": [
    "## 7.2 Transformação"
   ]
  },
  {
   "cell_type": "code",
   "execution_count": 7,
   "id": "26e6206d",
   "metadata": {
    "ExecuteTime": {
     "end_time": "2022-07-22T19:07:42.167466Z",
     "start_time": "2022-07-22T19:07:42.020699Z"
    }
   },
   "outputs": [],
   "source": [
    "categorical.reset_index(drop=True, inplace=True)\n",
    "\n",
    "categorical_2 = frequencias_codificadas(categorical)\n",
    "\n"
   ]
  },
  {
   "cell_type": "markdown",
   "id": "f584522a",
   "metadata": {},
   "source": [
    "### 7.2.1 Transformação das Variáveis"
   ]
  },
  {
   "cell_type": "code",
   "execution_count": 8,
   "id": "64f5bfd2",
   "metadata": {
    "ExecuteTime": {
     "end_time": "2022-07-22T19:07:44.912409Z",
     "start_time": "2022-07-22T19:07:44.888443Z"
    }
   },
   "outputs": [],
   "source": [
    "# Concatenando os dados de transformação de treino\n",
    "data_conc = pd.concat([binary, numerical_2, categorical_2, Alvo_var], axis=1)"
   ]
  },
  {
   "cell_type": "markdown",
   "id": "19657f55",
   "metadata": {},
   "source": [
    "# 8 Seleção de Recursos\n",
    "Nesse módulo, fizemos a seleção dos recursos pelo método Extra Tree Classifier que cria muitas árvores de decisão de maneira aleatória, para então através da combinação dos resultados de cada árvore encontrar a resposta final. No final, escolhemos os 14 melhores recursos para aplicar no modelo de Machine Learning."
   ]
  },
  {
   "cell_type": "markdown",
   "id": "b5120925",
   "metadata": {},
   "source": [
    "## 8.1 Extra Tree Classifier"
   ]
  },
  {
   "cell_type": "code",
   "execution_count": 10,
   "id": "dfe3a202",
   "metadata": {
    "ExecuteTime": {
     "end_time": "2022-07-22T19:07:58.974096Z",
     "start_time": "2022-07-22T19:07:58.921106Z"
    }
   },
   "outputs": [],
   "source": [
    "# definindo treino e teste para Boruta\n",
    "X = data_conc.drop('leads', axis=1)\n",
    "y = data_conc[['leads']]"
   ]
  },
  {
   "cell_type": "code",
   "execution_count": 11,
   "id": "b3b07152",
   "metadata": {
    "ExecuteTime": {
     "end_time": "2022-07-22T19:08:00.894284Z",
     "start_time": "2022-07-22T19:08:00.879290Z"
    }
   },
   "outputs": [],
   "source": [
    "# Instanciando ExtraTreesClassifier e RandomForestClassifier\n",
    "RF_classifier = RandomForestClassifier(n_jobs=-1)\n",
    "ET_classifier = ExtraTreesClassifier(n_jobs=-1)"
   ]
  },
  {
   "cell_type": "code",
   "execution_count": 12,
   "id": "28c2f0d0",
   "metadata": {
    "ExecuteTime": {
     "end_time": "2022-07-22T19:10:29.635964Z",
     "start_time": "2022-07-22T19:08:04.323652Z"
    }
   },
   "outputs": [
    {
     "name": "stdout",
     "output_type": "stream",
     "text": [
      "Iteration: \t1 / 100\n",
      "Confirmed: \t0\n",
      "Tentative: \t43\n",
      "Rejected: \t0\n",
      "Iteration: \t2 / 100\n",
      "Confirmed: \t0\n",
      "Tentative: \t43\n",
      "Rejected: \t0\n",
      "Iteration: \t3 / 100\n",
      "Confirmed: \t0\n",
      "Tentative: \t43\n",
      "Rejected: \t0\n",
      "Iteration: \t4 / 100\n",
      "Confirmed: \t0\n",
      "Tentative: \t43\n",
      "Rejected: \t0\n",
      "Iteration: \t5 / 100\n",
      "Confirmed: \t0\n",
      "Tentative: \t43\n",
      "Rejected: \t0\n",
      "Iteration: \t6 / 100\n",
      "Confirmed: \t0\n",
      "Tentative: \t43\n",
      "Rejected: \t0\n",
      "Iteration: \t7 / 100\n",
      "Confirmed: \t0\n",
      "Tentative: \t43\n",
      "Rejected: \t0\n",
      "Iteration: \t8 / 100\n",
      "Confirmed: \t4\n",
      "Tentative: \t0\n",
      "Rejected: \t39\n",
      "\n",
      "\n",
      "BorutaPy finished running.\n",
      "\n",
      "Iteration: \t9 / 100\n",
      "Confirmed: \t4\n",
      "Tentative: \t0\n",
      "Rejected: \t39\n"
     ]
    }
   ],
   "source": [
    "# Definindo Boruta\n",
    "boruta = BorutaPy(ET_classifier, n_estimators='auto', verbose=2, random_state=42).fit(X.values, y.values.ravel())"
   ]
  },
  {
   "cell_type": "code",
   "execution_count": 14,
   "id": "b675f5d4",
   "metadata": {
    "ExecuteTime": {
     "end_time": "2022-07-22T19:11:22.402287Z",
     "start_time": "2022-07-22T19:11:22.317681Z"
    }
   },
   "outputs": [
    {
     "data": {
      "text/plain": [
       "['código_do_anunciante', 'cliques_telefone', 'cep_2dig', 'Cidade']"
      ]
     },
     "execution_count": 14,
     "metadata": {},
     "output_type": "execute_result"
    }
   ],
   "source": [
    "# Ranking das features\n",
    "cols_selected = boruta.support_.tolist()\n",
    "cols_selected_boruta =X.iloc[:, cols_selected].columns.to_list()\n",
    "cols_selected_boruta"
   ]
  },
  {
   "cell_type": "code",
   "execution_count": 15,
   "id": "db9600e3",
   "metadata": {
    "ExecuteTime": {
     "end_time": "2022-07-22T19:12:00.058488Z",
     "start_time": "2022-07-22T19:12:00.000512Z"
    }
   },
   "outputs": [],
   "source": [
    "X_boruta = X[cols_selected_boruta].copy()"
   ]
  },
  {
   "cell_type": "code",
   "execution_count": 18,
   "id": "f13f469c",
   "metadata": {
    "ExecuteTime": {
     "end_time": "2022-07-22T19:14:40.682579Z",
     "start_time": "2022-07-22T19:14:20.612714Z"
    }
   },
   "outputs": [
    {
     "name": "stderr",
     "output_type": "stream",
     "text": [
      "<ipython-input-18-1bb4171e20e4>:2: DataConversionWarning: A column-vector y was passed when a 1d array was expected. Please change the shape of y to (n_samples,), for example using ravel().\n",
      "  ET_classifier.fit(X, y)\n"
     ]
    },
    {
     "data": {
      "image/png": "[encoded data removed]",
      "text/plain": [
       "<Figure size 1152x576 with 1 Axes>"
      ]
     },
     "metadata": {
      "needs_background": "light"
     },
     "output_type": "display_data"
    }
   ],
   "source": [
    "# Plotando o ranking das features\n",
    "ET_classifier.fit(X, y)\n",
    "\n",
    "plt.figure(figsize=(16,8), tight_layout={'pad':2.0})\n",
    "\n",
    "feat_importances = pd.Series(ET_classifier.feature_importances_, index=X.columns)\n",
    "feat_importances.sort_values().plot(kind='barh')\n",
    "\n",
    "plt.subplots_adjust(hspace=0.5)\n",
    "  \n",
    "plt.show() "
   ]
  },
  {
   "cell_type": "markdown",
   "id": "609b7e0b",
   "metadata": {},
   "source": [
    "# 9 Machine Learning\n"
   ]
  },
  {
   "cell_type": "code",
   "execution_count": 32,
   "id": "e0313593",
   "metadata": {
    "ExecuteTime": {
     "end_time": "2022-07-22T19:42:20.685678Z",
     "start_time": "2022-07-22T19:42:20.639708Z"
    }
   },
   "outputs": [],
   "source": [
    "# Trocando os dados para os balanceados\n",
    "X2 = X_boruta\n",
    "y2 = y\n",
    "\n",
    "# splits nos dados de treino e teste\n",
    "X2_train, X2_test, y2_train, y2_test = train_test_split(X2, y2, test_size=0.2, random_state=11)"
   ]
  },
  {
   "cell_type": "code",
   "execution_count": 93,
   "id": "7d999b61",
   "metadata": {
    "ExecuteTime": {
     "end_time": "2022-07-22T20:41:00.684407Z",
     "start_time": "2022-07-22T20:40:51.344691Z"
    }
   },
   "outputs": [
    {
     "name": "stdout",
     "output_type": "stream",
     "text": [
      "Training RandomForestRegressor...\n",
      "Training XGBRegressor...\n",
      "Training Lasso...\n",
      "Training LinearRegression...\n"
     ]
    }
   ],
   "source": [
    "r_f = RandomForestRegressor( n_estimators=100, \n",
    "                           n_jobs=-1,         \n",
    "                           random_state=42 )\n",
    "xgb1 = xgb.XGBRegressor( objective='reg:squarederror',   \n",
    "                              n_estimators=100,               \n",
    "                              max_depth=10,                   \n",
    "                              subsample=0.7)\n",
    "l_r_r = Lasso( alpha=0.01 )\n",
    "r_l = LinearRegression()\n",
    "\n",
    "# Definir os regressors\n",
    "regressor = [r_f,\n",
    "              xgb1,\n",
    "               l_r_r,\n",
    "               r_l]\n",
    "\n",
    "# Calcular as performances dos classifiers \n",
    "perfomance_dados = UG.performance_modelo(X2_train, X2_test, \n",
    "                                                y2_train.values.ravel(), y2_test.values.ravel(), \n",
    "                                                regressor)"
   ]
  },
  {
   "cell_type": "code",
   "execution_count": 94,
   "id": "8c786be4",
   "metadata": {
    "ExecuteTime": {
     "end_time": "2022-07-22T20:41:02.989813Z",
     "start_time": "2022-07-22T20:41:02.957213Z"
    }
   },
   "outputs": [
    {
     "data": {
      "text/html": [
       "<div>\n",
       "<style scoped>\n",
       "    .dataframe tbody tr th:only-of-type {\n",
       "        vertical-align: middle;\n",
       "    }\n",
       "\n",
       "    .dataframe tbody tr th {\n",
       "        vertical-align: top;\n",
       "    }\n",
       "\n",
       "    .dataframe thead th {\n",
       "        text-align: right;\n",
       "    }\n",
       "</style>\n",
       "<table border=\"1\" class=\"dataframe\">\n",
       "  <thead>\n",
       "    <tr style=\"text-align: right;\">\n",
       "      <th></th>\n",
       "      <th>model</th>\n",
       "      <th>MAE</th>\n",
       "      <th>MAPE</th>\n",
       "      <th>RMSE</th>\n",
       "    </tr>\n",
       "  </thead>\n",
       "  <tbody>\n",
       "    <tr>\n",
       "      <th>0</th>\n",
       "      <td>RandomForestRegressor</td>\n",
       "      <td>2.979422</td>\n",
       "      <td>2.094603e+15</td>\n",
       "      <td>6.202220</td>\n",
       "    </tr>\n",
       "    <tr>\n",
       "      <th>2</th>\n",
       "      <td>XGBRegressor</td>\n",
       "      <td>3.056387</td>\n",
       "      <td>2.042364e+15</td>\n",
       "      <td>6.682773</td>\n",
       "    </tr>\n",
       "    <tr>\n",
       "      <th>4</th>\n",
       "      <td>Lasso</td>\n",
       "      <td>3.457689</td>\n",
       "      <td>2.576463e+15</td>\n",
       "      <td>6.151131</td>\n",
       "    </tr>\n",
       "    <tr>\n",
       "      <th>6</th>\n",
       "      <td>LinearRegression</td>\n",
       "      <td>3.537880</td>\n",
       "      <td>2.627028e+15</td>\n",
       "      <td>6.158960</td>\n",
       "    </tr>\n",
       "  </tbody>\n",
       "</table>\n",
       "</div>"
      ],
      "text/plain": [
       "                   model       MAE          MAPE      RMSE\n",
       "0  RandomForestRegressor  2.979422  2.094603e+15  6.202220\n",
       "2           XGBRegressor  3.056387  2.042364e+15  6.682773\n",
       "4                  Lasso  3.457689  2.576463e+15  6.151131\n",
       "6       LinearRegression  3.537880  2.627028e+15  6.158960"
      ]
     },
     "execution_count": 94,
     "metadata": {},
     "output_type": "execute_result"
    }
   ],
   "source": [
    "perfomance_dados"
   ]
  },
  {
   "cell_type": "code",
   "execution_count": null,
   "id": "1a5608ef",
   "metadata": {},
   "outputs": [],
   "source": []
  },
  {
   "cell_type": "code",
   "execution_count": null,
   "id": "f2bd2bc6",
   "metadata": {},
   "outputs": [],
   "source": []
  },
  {
   "cell_type": "code",
   "execution_count": null,
   "id": "dad25126",
   "metadata": {},
   "outputs": [],
   "source": []
  },
  {
   "cell_type": "code",
   "execution_count": null,
   "id": "c568d030",
   "metadata": {},
   "outputs": [],
   "source": []
  },
  {
   "cell_type": "code",
   "execution_count": null,
   "id": "fcc6b75c",
   "metadata": {},
   "outputs": [],
   "source": []
  },
  {
   "cell_type": "code",
   "execution_count": null,
   "id": "5fcd50d5",
   "metadata": {},
   "outputs": [],
   "source": []
  },
  {
   "cell_type": "code",
   "execution_count": null,
   "id": "5afc6167",
   "metadata": {},
   "outputs": [],
   "source": []
  }
 ],
 "metadata": {
  "kernelspec": {
   "display_name": "Python 3",
   "language": "python",
   "name": "python3"
  },
  "language_info": {
   "codemirror_mode": {
    "name": "ipython",
    "version": 3
   },
   "file_extension": ".py",
   "mimetype": "text/x-python",
   "name": "python",
   "nbconvert_exporter": "python",
   "pygments_lexer": "ipython3",
   "version": "3.8.8"
  }
 },
 "nbformat": 4,
 "nbformat_minor": 5
}
